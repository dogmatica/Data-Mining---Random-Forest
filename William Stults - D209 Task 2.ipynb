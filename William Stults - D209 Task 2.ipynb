{
 "cells": [
  {
   "cell_type": "markdown",
   "id": "c5860dbb-1588-4b01-8e7b-8f301cc60c1e",
   "metadata": {},
   "source": [
    "---\n",
    "\n",
    "# **Part I: Research Question**\n",
    "\n",
    "## Research Question\n",
    "\n",
    "My dataset for this data mining classification exercise includes data on an internet service provider’s current and former subscribers, with an emphasis on customer churn (whether customers are maintaining or discontinuing their subscription to the ISP’s service).  Data analysis performed on the dataset will be aimed with this research question in mind: is there a relationship between customer lifestyle, or “social” factors, and customer churn?  Lifestyle and social factors might include variables such as age, income, and marital status, among others."
   ]
  },
  {
   "cell_type": "markdown",
   "id": "85c77f7e-4efb-48fb-bcb6-f936c1d19517",
   "metadata": {},
   "source": [
    "---\n",
    "\n",
    "## Objectives and Goals\n",
    "\n",
    "Conclusions gleaned from the analysis of this data can benefit stakeholders by revealing information on which customer populations may be more likely to “churn”, or terminate their service contract with the ISP.  For a data mining exercise such as this, I will determine whether a specific classification method, random forest, can accurately classify which customers will churn based on comparing features of customers who do churn with those that do not.  Such information may be used to fuel targeted advertising campaigns, special promotional offers, and other strategies related to customer retention."
   ]
  },
  {
   "cell_type": "markdown",
   "id": "a054dcde-e9ef-454d-b0cc-2acea00e6744",
   "metadata": {},
   "source": [
    "---\n",
    "\n",
    "# **Part II: Method Justification**\n",
    "\n",
    "## Random Forest Classifier\n",
    "\n",
    "The random forest machine learning algorithm is regarded as one of the more accurate and robust predictive models.  This is largely due to random forest being an ensemble learning process where multiple models are used to analyze known data points.  Those models then arrive at their own decision, or \"vote\", after which the results are averaged to determine a more accurate prediction.  In the specific case of random forests, multiple decision tree models iterate through their own decision flows, executed on a random sampling of known data in a process called bootstrapping.  Once trained, when needed for prediction purposes they will each use their unique decision flow to arrive at a classification result.  Each of those results is taken as input by the random forest to issue a final prediction.\n",
    "\n",
    "\n",
    "---\n",
    "\n",
    "## Assumption of Random Forest\n",
    "\n",
    "One key assumption of random forest is that it does not rely on formal distribution of data (Vishalmendekarhere, 2021).  To break this down, it means random forests are quite capable of handling many of the random elements of acquired data that other algorithms need fixed, such as outliers and missing data.  While individual decision trees within the random forest will experience their own errors, having multiple decision trees to source before issuing a prediction better insulates the encompassing algorithm from inaccuracies due to those errors."
   ]
  },
  {
   "cell_type": "markdown",
   "id": "9ac91a96-f89b-42fc-a2c2-4ffe7deab47b",
   "metadata": {},
   "source": [
    "---\n",
    "\n",
    "## Tool Selection\n",
    "\n",
    "All code execution was carried out via Jupyter Lab, using Python 3.  I used Python as my selected programming language due to prior familiarity and broader applications when considering programming in general.  R is a very strong and robust language tool for data analysis and statistics but finds itself somewhat limited to that niche role (Insights for Professionals, 2019).\n",
    "\n",
    "Pictured below is a list of packages imported for the data mining operation."
   ]
  },
  {
   "cell_type": "code",
   "execution_count": 1,
   "id": "97fcdc0f-0443-4104-ab37-01711ec06cae",
   "metadata": {},
   "outputs": [],
   "source": [
    "# Imports and housekeeping\n",
    "import pandas as pd\n",
    "import numpy as np\n",
    "import matplotlib.pyplot as plt\n",
    "from sklearn.neighbors import KNeighborsClassifier\n",
    "from sklearn.ensemble import RandomForestClassifier\n",
    "from sklearn.model_selection import train_test_split, GridSearchCV\n",
    "from sklearn.metrics import accuracy_score, mean_squared_error"
   ]
  },
  {
   "cell_type": "markdown",
   "id": "0fc2be41-d56b-4bc1-ac5d-046392fcf47b",
   "metadata": {},
   "source": [
    "---\n",
    "\n",
    "- **NumPy, Pandas, and Matplotlib**\n",
    "\n",
    "One might consider NumPy, Pandas, and Matplotlib to be a holy trinity of Python data science, as they are likely to be present in any Python code used for data science or data analytics tasks.  NumPy is used for a plethora of mathematical calculations; Pandas is relied upon for data manipulation (and is quite compatible with NumPy), and Matplotlib is the foundation of Python's data plotting features.\n",
    "\n",
    "- **Scikit-learn**\n",
    "\n",
    "I used a number of modules and functions from the scikit-learn library:\n",
    "\n",
    "- KNeighborsClassifier - used for creating a k-nearest neighbors algorithm for a classifier machine learning model\n",
    "- RandomForestClassifier - used for creating a random forest algorithm for a classifier machine learning model\n",
    "- train_test_split - splits a data set into train and test sets, the former used for learning how to predict, and the latter for running and comparing predictions\n",
    "- GridSearchCV - a useful function for hyperparameter tuning, this will be used to determine an optimal value for n_estimators and max_depth in the random forest model\n",
    "- accuracy_score, mean_squared_error - calculate the metrics by which each model's effectiveness and accuracy will be measured"
   ]
  },
  {
   "cell_type": "markdown",
   "id": "c5bf7d80-d5c0-42e8-9a71-508c65ce12a5",
   "metadata": {},
   "source": [
    "---\n",
    "\n",
    "# **Part III: Data Preparation**\n",
    "\n",
    "## Data Preparation Goals and Data Manipulations\n",
    "\n",
    "I would like my data to include only variables relevant to my research question, and to be clean and free of missing values and duplicate rows.  It will also be important to re-express any categorical variable types (including my target variable, \"Churn\") with numeric values.  My first steps will be to import the complete data set and execute functions that will give me information on its size, the data types of its variables, and a peek at the data in table form.  I will then narrow the data set to a new dataframe containing only the variables I am concerned with, and then utilize functions to determine if any null values or duplicate rows exist.\n",
    "\n",
    "The data set variables that I will use to perform the analysis for the classification question are listed below.\n",
    "\n",
    "\n",
    "|Variable|Data Type|Continuous or Categorical|Description|\n",
    "|---|---|---|---|\n",
    "|Area|\tobject\t|Categorical\t|Type of area customer lives in (urban, suburban, rural)|\n",
    "|Job|object|Categorical|Customer's occupation|\n",
    "|Children\t|float64\t|Continuous\t|How many children live in the customer’s household|\n",
    "|Age\t|float64\t|Continuous\t|Customer’s age|\n",
    "|Income\t|float64\t|Continuous\t|Customer’s income annually|\n",
    "|Marital\t|object\t|Categorical\t|Customer’s marital status|\n",
    "|Gender\t|object\t|Categorical\t|Self-identified gender of the customer|\n",
    "|Churn\t|object\t|Categorical\t|Yes/No if customer canceled service|\n",
    "|Tenure|float64\t|Continuous\t|Length of time in months the customer has maintained service|\n",
    "|MonthlyCharge|float64\t|Continuous\t|Amount in dollars the customer is charged per month|\n",
    "|Bandwidth_GB_Year|float64\t|Continuous\t|How much bandwidth the customer uses per year|"
   ]
  },
  {
   "cell_type": "code",
   "execution_count": 2,
   "id": "2f29e528-7912-421d-a7c6-b6a690e59646",
   "metadata": {},
   "outputs": [],
   "source": [
    "# Import the main dataset\n",
    "df = pd.read_csv('churn_clean.csv',dtype={'locationid':np.int64})"
   ]
  },
  {
   "cell_type": "code",
   "execution_count": 3,
   "id": "ee414452-723a-470c-bd4a-9460566e0c80",
   "metadata": {},
   "outputs": [
    {
     "name": "stdout",
     "output_type": "stream",
     "text": [
      "<class 'pandas.core.frame.DataFrame'>\n",
      "RangeIndex: 10000 entries, 0 to 9999\n",
      "Data columns (total 50 columns):\n",
      " #   Column                Non-Null Count  Dtype  \n",
      "---  ------                --------------  -----  \n",
      " 0   CaseOrder             10000 non-null  int64  \n",
      " 1   Customer_id           10000 non-null  object \n",
      " 2   Interaction           10000 non-null  object \n",
      " 3   UID                   10000 non-null  object \n",
      " 4   City                  10000 non-null  object \n",
      " 5   State                 10000 non-null  object \n",
      " 6   County                10000 non-null  object \n",
      " 7   Zip                   10000 non-null  int64  \n",
      " 8   Lat                   10000 non-null  float64\n",
      " 9   Lng                   10000 non-null  float64\n",
      " 10  Population            10000 non-null  int64  \n",
      " 11  Area                  10000 non-null  object \n",
      " 12  TimeZone              10000 non-null  object \n",
      " 13  Job                   10000 non-null  object \n",
      " 14  Children              10000 non-null  int64  \n",
      " 15  Age                   10000 non-null  int64  \n",
      " 16  Income                10000 non-null  float64\n",
      " 17  Marital               10000 non-null  object \n",
      " 18  Gender                10000 non-null  object \n",
      " 19  Churn                 10000 non-null  object \n",
      " 20  Outage_sec_perweek    10000 non-null  float64\n",
      " 21  Email                 10000 non-null  int64  \n",
      " 22  Contacts              10000 non-null  int64  \n",
      " 23  Yearly_equip_failure  10000 non-null  int64  \n",
      " 24  Techie                10000 non-null  object \n",
      " 25  Contract              10000 non-null  object \n",
      " 26  Port_modem            10000 non-null  object \n",
      " 27  Tablet                10000 non-null  object \n",
      " 28  InternetService       10000 non-null  object \n",
      " 29  Phone                 10000 non-null  object \n",
      " 30  Multiple              10000 non-null  object \n",
      " 31  OnlineSecurity        10000 non-null  object \n",
      " 32  OnlineBackup          10000 non-null  object \n",
      " 33  DeviceProtection      10000 non-null  object \n",
      " 34  TechSupport           10000 non-null  object \n",
      " 35  StreamingTV           10000 non-null  object \n",
      " 36  StreamingMovies       10000 non-null  object \n",
      " 37  PaperlessBilling      10000 non-null  object \n",
      " 38  PaymentMethod         10000 non-null  object \n",
      " 39  Tenure                10000 non-null  float64\n",
      " 40  MonthlyCharge         10000 non-null  float64\n",
      " 41  Bandwidth_GB_Year     10000 non-null  float64\n",
      " 42  Item1                 10000 non-null  int64  \n",
      " 43  Item2                 10000 non-null  int64  \n",
      " 44  Item3                 10000 non-null  int64  \n",
      " 45  Item4                 10000 non-null  int64  \n",
      " 46  Item5                 10000 non-null  int64  \n",
      " 47  Item6                 10000 non-null  int64  \n",
      " 48  Item7                 10000 non-null  int64  \n",
      " 49  Item8                 10000 non-null  int64  \n",
      "dtypes: float64(7), int64(16), object(27)\n",
      "memory usage: 3.8+ MB\n"
     ]
    }
   ],
   "source": [
    "# Display dataset info\n",
    "df.info()"
   ]
  },
  {
   "cell_type": "code",
   "execution_count": 4,
   "id": "d37d6061-5be0-4f02-b76b-ac6a6b3464a7",
   "metadata": {},
   "outputs": [],
   "source": [
    "# Drops columns with no relevance to the research question\n",
    "df_data = df.drop(['CaseOrder', 'Customer_id', 'Interaction', 'UID', 'City', 'State', 'County', 'Zip', 'Lat', 'Lng',\n",
    "                   'Population', 'TimeZone', 'Outage_sec_perweek', 'Email', 'Contacts', 'Yearly_equip_failure', 'Techie',\n",
    "                   'Contract', 'Port_modem', 'Tablet', 'InternetService', 'Phone', 'Multiple', 'OnlineSecurity',\n",
    "                   'OnlineBackup', 'DeviceProtection', 'TechSupport', 'StreamingTV', 'StreamingMovies', 'PaperlessBilling',\n",
    "                   'PaymentMethod', 'Item1', 'Item2', 'Item3', 'Item4', 'Item5', 'Item6', 'Item7', 'Item8'], axis=1)"
   ]
  },
  {
   "cell_type": "code",
   "execution_count": 5,
   "id": "8bb69e5e-d54f-47b0-97a1-a8e1fa7760f7",
   "metadata": {},
   "outputs": [
    {
     "data": {
      "text/html": [
       "<div>\n",
       "<style scoped>\n",
       "    .dataframe tbody tr th:only-of-type {\n",
       "        vertical-align: middle;\n",
       "    }\n",
       "\n",
       "    .dataframe tbody tr th {\n",
       "        vertical-align: top;\n",
       "    }\n",
       "\n",
       "    .dataframe thead th {\n",
       "        text-align: right;\n",
       "    }\n",
       "</style>\n",
       "<table border=\"1\" class=\"dataframe\">\n",
       "  <thead>\n",
       "    <tr style=\"text-align: right;\">\n",
       "      <th></th>\n",
       "      <th>Area</th>\n",
       "      <th>Job</th>\n",
       "      <th>Children</th>\n",
       "      <th>Age</th>\n",
       "      <th>Income</th>\n",
       "      <th>Marital</th>\n",
       "      <th>Gender</th>\n",
       "      <th>Churn</th>\n",
       "      <th>Tenure</th>\n",
       "      <th>MonthlyCharge</th>\n",
       "      <th>Bandwidth_GB_Year</th>\n",
       "    </tr>\n",
       "  </thead>\n",
       "  <tbody>\n",
       "    <tr>\n",
       "      <th>0</th>\n",
       "      <td>Urban</td>\n",
       "      <td>Environmental health practitioner</td>\n",
       "      <td>0</td>\n",
       "      <td>68</td>\n",
       "      <td>28561.99</td>\n",
       "      <td>Widowed</td>\n",
       "      <td>Male</td>\n",
       "      <td>No</td>\n",
       "      <td>6.795513</td>\n",
       "      <td>172.455519</td>\n",
       "      <td>904.536110</td>\n",
       "    </tr>\n",
       "    <tr>\n",
       "      <th>1</th>\n",
       "      <td>Urban</td>\n",
       "      <td>Programmer, multimedia</td>\n",
       "      <td>1</td>\n",
       "      <td>27</td>\n",
       "      <td>21704.77</td>\n",
       "      <td>Married</td>\n",
       "      <td>Female</td>\n",
       "      <td>Yes</td>\n",
       "      <td>1.156681</td>\n",
       "      <td>242.632554</td>\n",
       "      <td>800.982766</td>\n",
       "    </tr>\n",
       "    <tr>\n",
       "      <th>2</th>\n",
       "      <td>Urban</td>\n",
       "      <td>Chief Financial Officer</td>\n",
       "      <td>4</td>\n",
       "      <td>50</td>\n",
       "      <td>9609.57</td>\n",
       "      <td>Widowed</td>\n",
       "      <td>Female</td>\n",
       "      <td>No</td>\n",
       "      <td>15.754144</td>\n",
       "      <td>159.947583</td>\n",
       "      <td>2054.706961</td>\n",
       "    </tr>\n",
       "    <tr>\n",
       "      <th>3</th>\n",
       "      <td>Suburban</td>\n",
       "      <td>Solicitor</td>\n",
       "      <td>1</td>\n",
       "      <td>48</td>\n",
       "      <td>18925.23</td>\n",
       "      <td>Married</td>\n",
       "      <td>Male</td>\n",
       "      <td>No</td>\n",
       "      <td>17.087227</td>\n",
       "      <td>119.956840</td>\n",
       "      <td>2164.579412</td>\n",
       "    </tr>\n",
       "    <tr>\n",
       "      <th>4</th>\n",
       "      <td>Suburban</td>\n",
       "      <td>Medical illustrator</td>\n",
       "      <td>0</td>\n",
       "      <td>83</td>\n",
       "      <td>40074.19</td>\n",
       "      <td>Separated</td>\n",
       "      <td>Male</td>\n",
       "      <td>Yes</td>\n",
       "      <td>1.670972</td>\n",
       "      <td>149.948316</td>\n",
       "      <td>271.493436</td>\n",
       "    </tr>\n",
       "  </tbody>\n",
       "</table>\n",
       "</div>"
      ],
      "text/plain": [
       "       Area                                Job  Children  Age    Income  \\\n",
       "0     Urban  Environmental health practitioner         0   68  28561.99   \n",
       "1     Urban             Programmer, multimedia         1   27  21704.77   \n",
       "2     Urban            Chief Financial Officer         4   50   9609.57   \n",
       "3  Suburban                          Solicitor         1   48  18925.23   \n",
       "4  Suburban                Medical illustrator         0   83  40074.19   \n",
       "\n",
       "     Marital  Gender Churn     Tenure  MonthlyCharge  Bandwidth_GB_Year  \n",
       "0    Widowed    Male    No   6.795513     172.455519         904.536110  \n",
       "1    Married  Female   Yes   1.156681     242.632554         800.982766  \n",
       "2    Widowed  Female    No  15.754144     159.947583        2054.706961  \n",
       "3    Married    Male    No  17.087227     119.956840        2164.579412  \n",
       "4  Separated    Male   Yes   1.670972     149.948316         271.493436  "
      ]
     },
     "execution_count": 5,
     "metadata": {},
     "output_type": "execute_result"
    }
   ],
   "source": [
    "# Display dataset top 5 rows\n",
    "df_data.head()"
   ]
  },
  {
   "cell_type": "code",
   "execution_count": 6,
   "id": "67a6ece5-624b-4fdf-ad02-ef5658537859",
   "metadata": {},
   "outputs": [
    {
     "data": {
      "text/plain": [
       "(10000, 11)"
      ]
     },
     "execution_count": 6,
     "metadata": {},
     "output_type": "execute_result"
    }
   ],
   "source": [
    "# Display data set number of rows and colums\n",
    "df_data.shape"
   ]
  },
  {
   "cell_type": "code",
   "execution_count": 7,
   "id": "2e18b635-4ef3-4784-b58c-e8910d3f286e",
   "metadata": {},
   "outputs": [
    {
     "data": {
      "text/plain": [
       "Area                 False\n",
       "Job                  False\n",
       "Children             False\n",
       "Age                  False\n",
       "Income               False\n",
       "Marital              False\n",
       "Gender               False\n",
       "Churn                False\n",
       "Tenure               False\n",
       "MonthlyCharge        False\n",
       "Bandwidth_GB_Year    False\n",
       "dtype: bool"
      ]
     },
     "execution_count": 7,
     "metadata": {},
     "output_type": "execute_result"
    }
   ],
   "source": [
    "# Check data for null or missing values\n",
    "df_data.isna().any()"
   ]
  },
  {
   "cell_type": "code",
   "execution_count": 8,
   "id": "7439d052-6ab0-42a7-99ba-0b77857c6fb6",
   "metadata": {},
   "outputs": [
    {
     "data": {
      "text/plain": [
       "0"
      ]
     },
     "execution_count": 8,
     "metadata": {},
     "output_type": "execute_result"
    }
   ],
   "source": [
    "# Check data for duplicated rows\n",
    "df_data.duplicated().sum()"
   ]
  },
  {
   "cell_type": "markdown",
   "id": "60b6f413-cf13-4d57-8eab-1fd939d6df06",
   "metadata": {},
   "source": [
    "---\n",
    "\n",
    "I can use the describe() function to display the summary statistics for the entire dataframe, as well as each variable I'll be evaluating for inclusion.  I have selected the Churn variable as my target variable."
   ]
  },
  {
   "cell_type": "code",
   "execution_count": 9,
   "id": "ce94b005-ed08-4e77-ae82-56e1ae322df8",
   "metadata": {},
   "outputs": [
    {
     "data": {
      "text/html": [
       "<div>\n",
       "<style scoped>\n",
       "    .dataframe tbody tr th:only-of-type {\n",
       "        vertical-align: middle;\n",
       "    }\n",
       "\n",
       "    .dataframe tbody tr th {\n",
       "        vertical-align: top;\n",
       "    }\n",
       "\n",
       "    .dataframe thead th {\n",
       "        text-align: right;\n",
       "    }\n",
       "</style>\n",
       "<table border=\"1\" class=\"dataframe\">\n",
       "  <thead>\n",
       "    <tr style=\"text-align: right;\">\n",
       "      <th></th>\n",
       "      <th>Children</th>\n",
       "      <th>Age</th>\n",
       "      <th>Income</th>\n",
       "      <th>Tenure</th>\n",
       "      <th>MonthlyCharge</th>\n",
       "      <th>Bandwidth_GB_Year</th>\n",
       "    </tr>\n",
       "  </thead>\n",
       "  <tbody>\n",
       "    <tr>\n",
       "      <th>count</th>\n",
       "      <td>10000.0000</td>\n",
       "      <td>10000.000000</td>\n",
       "      <td>10000.000000</td>\n",
       "      <td>10000.000000</td>\n",
       "      <td>10000.000000</td>\n",
       "      <td>10000.000000</td>\n",
       "    </tr>\n",
       "    <tr>\n",
       "      <th>mean</th>\n",
       "      <td>2.0877</td>\n",
       "      <td>53.078400</td>\n",
       "      <td>39806.926771</td>\n",
       "      <td>34.526188</td>\n",
       "      <td>172.624816</td>\n",
       "      <td>3392.341550</td>\n",
       "    </tr>\n",
       "    <tr>\n",
       "      <th>std</th>\n",
       "      <td>2.1472</td>\n",
       "      <td>20.698882</td>\n",
       "      <td>28199.916702</td>\n",
       "      <td>26.443063</td>\n",
       "      <td>42.943094</td>\n",
       "      <td>2185.294852</td>\n",
       "    </tr>\n",
       "    <tr>\n",
       "      <th>min</th>\n",
       "      <td>0.0000</td>\n",
       "      <td>18.000000</td>\n",
       "      <td>348.670000</td>\n",
       "      <td>1.000259</td>\n",
       "      <td>79.978860</td>\n",
       "      <td>155.506715</td>\n",
       "    </tr>\n",
       "    <tr>\n",
       "      <th>25%</th>\n",
       "      <td>0.0000</td>\n",
       "      <td>35.000000</td>\n",
       "      <td>19224.717500</td>\n",
       "      <td>7.917694</td>\n",
       "      <td>139.979239</td>\n",
       "      <td>1236.470827</td>\n",
       "    </tr>\n",
       "    <tr>\n",
       "      <th>50%</th>\n",
       "      <td>1.0000</td>\n",
       "      <td>53.000000</td>\n",
       "      <td>33170.605000</td>\n",
       "      <td>35.430507</td>\n",
       "      <td>167.484700</td>\n",
       "      <td>3279.536903</td>\n",
       "    </tr>\n",
       "    <tr>\n",
       "      <th>75%</th>\n",
       "      <td>3.0000</td>\n",
       "      <td>71.000000</td>\n",
       "      <td>53246.170000</td>\n",
       "      <td>61.479795</td>\n",
       "      <td>200.734725</td>\n",
       "      <td>5586.141370</td>\n",
       "    </tr>\n",
       "    <tr>\n",
       "      <th>max</th>\n",
       "      <td>10.0000</td>\n",
       "      <td>89.000000</td>\n",
       "      <td>258900.700000</td>\n",
       "      <td>71.999280</td>\n",
       "      <td>290.160419</td>\n",
       "      <td>7158.981530</td>\n",
       "    </tr>\n",
       "  </tbody>\n",
       "</table>\n",
       "</div>"
      ],
      "text/plain": [
       "         Children           Age         Income        Tenure  MonthlyCharge  \\\n",
       "count  10000.0000  10000.000000   10000.000000  10000.000000   10000.000000   \n",
       "mean       2.0877     53.078400   39806.926771     34.526188     172.624816   \n",
       "std        2.1472     20.698882   28199.916702     26.443063      42.943094   \n",
       "min        0.0000     18.000000     348.670000      1.000259      79.978860   \n",
       "25%        0.0000     35.000000   19224.717500      7.917694     139.979239   \n",
       "50%        1.0000     53.000000   33170.605000     35.430507     167.484700   \n",
       "75%        3.0000     71.000000   53246.170000     61.479795     200.734725   \n",
       "max       10.0000     89.000000  258900.700000     71.999280     290.160419   \n",
       "\n",
       "       Bandwidth_GB_Year  \n",
       "count       10000.000000  \n",
       "mean         3392.341550  \n",
       "std          2185.294852  \n",
       "min           155.506715  \n",
       "25%          1236.470827  \n",
       "50%          3279.536903  \n",
       "75%          5586.141370  \n",
       "max          7158.981530  "
      ]
     },
     "execution_count": 9,
     "metadata": {},
     "output_type": "execute_result"
    }
   ],
   "source": [
    "# Display summary statistics for entire dataset - continuous variables\n",
    "df_data.describe()"
   ]
  },
  {
   "cell_type": "code",
   "execution_count": 10,
   "id": "8ecd399d-018a-466d-b327-61241ba163f4",
   "metadata": {},
   "outputs": [
    {
     "data": {
      "text/html": [
       "<div>\n",
       "<style scoped>\n",
       "    .dataframe tbody tr th:only-of-type {\n",
       "        vertical-align: middle;\n",
       "    }\n",
       "\n",
       "    .dataframe tbody tr th {\n",
       "        vertical-align: top;\n",
       "    }\n",
       "\n",
       "    .dataframe thead th {\n",
       "        text-align: right;\n",
       "    }\n",
       "</style>\n",
       "<table border=\"1\" class=\"dataframe\">\n",
       "  <thead>\n",
       "    <tr style=\"text-align: right;\">\n",
       "      <th></th>\n",
       "      <th>Area</th>\n",
       "      <th>Job</th>\n",
       "      <th>Marital</th>\n",
       "      <th>Gender</th>\n",
       "      <th>Churn</th>\n",
       "    </tr>\n",
       "  </thead>\n",
       "  <tbody>\n",
       "    <tr>\n",
       "      <th>count</th>\n",
       "      <td>10000</td>\n",
       "      <td>10000</td>\n",
       "      <td>10000</td>\n",
       "      <td>10000</td>\n",
       "      <td>10000</td>\n",
       "    </tr>\n",
       "    <tr>\n",
       "      <th>unique</th>\n",
       "      <td>3</td>\n",
       "      <td>639</td>\n",
       "      <td>5</td>\n",
       "      <td>3</td>\n",
       "      <td>2</td>\n",
       "    </tr>\n",
       "    <tr>\n",
       "      <th>top</th>\n",
       "      <td>Suburban</td>\n",
       "      <td>Occupational psychologist</td>\n",
       "      <td>Divorced</td>\n",
       "      <td>Female</td>\n",
       "      <td>No</td>\n",
       "    </tr>\n",
       "    <tr>\n",
       "      <th>freq</th>\n",
       "      <td>3346</td>\n",
       "      <td>30</td>\n",
       "      <td>2092</td>\n",
       "      <td>5025</td>\n",
       "      <td>7350</td>\n",
       "    </tr>\n",
       "  </tbody>\n",
       "</table>\n",
       "</div>"
      ],
      "text/plain": [
       "            Area                        Job   Marital  Gender  Churn\n",
       "count      10000                      10000     10000   10000  10000\n",
       "unique         3                        639         5       3      2\n",
       "top     Suburban  Occupational psychologist  Divorced  Female     No\n",
       "freq        3346                         30      2092    5025   7350"
      ]
     },
     "execution_count": 10,
     "metadata": {},
     "output_type": "execute_result"
    }
   ],
   "source": [
    "# Display summary statistics for entire dataset - categorical variables\n",
    "df_data.describe(include = object)"
   ]
  },
  {
   "cell_type": "markdown",
   "id": "e2192361-6325-4ee5-b110-a79c2f86a6cf",
   "metadata": {},
   "source": [
    "---\n",
    "\n",
    "Immediately I can tell there is a problem with the Job variable.  For most of the categorical variables I will be using one-hot encoding to generate their numerical equivalents, but the Job variable has far too many unique values for this to be feasible.  There may be a way to sort the jobs into categories and then use a form of label encoding, but for the purpose of this exercise I will be excluding the Job variable."
   ]
  },
  {
   "cell_type": "code",
   "execution_count": 11,
   "id": "ef8f41a0-8759-4f63-8453-b7dbaeee83cd",
   "metadata": {},
   "outputs": [],
   "source": [
    "# Too many unique values, drop Job column\n",
    "df_data = df_data.drop(['Job'], axis=1)"
   ]
  },
  {
   "cell_type": "code",
   "execution_count": 12,
   "id": "059f6bfc-77dc-44f0-b10a-b2bd499e1d56",
   "metadata": {},
   "outputs": [
    {
     "data": {
      "text/html": [
       "<div>\n",
       "<style scoped>\n",
       "    .dataframe tbody tr th:only-of-type {\n",
       "        vertical-align: middle;\n",
       "    }\n",
       "\n",
       "    .dataframe tbody tr th {\n",
       "        vertical-align: top;\n",
       "    }\n",
       "\n",
       "    .dataframe thead th {\n",
       "        text-align: right;\n",
       "    }\n",
       "</style>\n",
       "<table border=\"1\" class=\"dataframe\">\n",
       "  <thead>\n",
       "    <tr style=\"text-align: right;\">\n",
       "      <th></th>\n",
       "      <th>Area</th>\n",
       "      <th>Marital</th>\n",
       "      <th>Gender</th>\n",
       "      <th>Churn</th>\n",
       "    </tr>\n",
       "  </thead>\n",
       "  <tbody>\n",
       "    <tr>\n",
       "      <th>count</th>\n",
       "      <td>10000</td>\n",
       "      <td>10000</td>\n",
       "      <td>10000</td>\n",
       "      <td>10000</td>\n",
       "    </tr>\n",
       "    <tr>\n",
       "      <th>unique</th>\n",
       "      <td>3</td>\n",
       "      <td>5</td>\n",
       "      <td>3</td>\n",
       "      <td>2</td>\n",
       "    </tr>\n",
       "    <tr>\n",
       "      <th>top</th>\n",
       "      <td>Suburban</td>\n",
       "      <td>Divorced</td>\n",
       "      <td>Female</td>\n",
       "      <td>No</td>\n",
       "    </tr>\n",
       "    <tr>\n",
       "      <th>freq</th>\n",
       "      <td>3346</td>\n",
       "      <td>2092</td>\n",
       "      <td>5025</td>\n",
       "      <td>7350</td>\n",
       "    </tr>\n",
       "  </tbody>\n",
       "</table>\n",
       "</div>"
      ],
      "text/plain": [
       "            Area   Marital  Gender  Churn\n",
       "count      10000     10000   10000  10000\n",
       "unique         3         5       3      2\n",
       "top     Suburban  Divorced  Female     No\n",
       "freq        3346      2092    5025   7350"
      ]
     },
     "execution_count": 12,
     "metadata": {},
     "output_type": "execute_result"
    }
   ],
   "source": [
    "# Display summary statistics for dataset - categorical variables\n",
    "df_data.describe(include = object)"
   ]
  },
  {
   "cell_type": "markdown",
   "id": "9e28ca6f-1963-4da2-97ab-c5790a079cf5",
   "metadata": {},
   "source": [
    "---\n",
    "\n",
    "Now that the unique values for my categorical variables are under control, I can move forward with one-hot encoding via the Pandas get_dummies() function.  This will create new columns for each unique value for these variables, then remove the original variables from the data set."
   ]
  },
  {
   "cell_type": "code",
   "execution_count": 13,
   "id": "90b839e9-e90e-4dd5-9cd8-58824dfea86e",
   "metadata": {
    "tags": []
   },
   "outputs": [],
   "source": [
    "# Convert categorical variables (excluding Churn) to numeric via pd.get_dummies\n",
    "df_data = pd.get_dummies(df_data, columns = ['Area', 'Marital', 'Gender'], dtype = int)"
   ]
  },
  {
   "cell_type": "markdown",
   "id": "6cab2efc-4e66-4364-af63-7e50f339beac",
   "metadata": {},
   "source": [
    "---\n",
    "\n",
    "For my target variable, Churn, I will once again perform a conversion to integer values.  Without making a modification to the code used for the other categorical variables I would end up with two columns, Churn_No and Churn_Yes.  This is not ideal, as I want a single variable used for my target, and with two columns for Churn one would be used as the target and the other for feature data.  I could use the same process I used for the other categorical variables and then simply drop the extra column, but it is easier to amend my get_dummies function to include the \"drop_first = True\" parameter and let the function handle that task for me."
   ]
  },
  {
   "cell_type": "code",
   "execution_count": 14,
   "id": "8b41c72c-6c1a-48ef-95cb-4c045a9afbb9",
   "metadata": {},
   "outputs": [],
   "source": [
    "# Convert categorical variables (excluding Churn) to numeric via pd.get_dummies\n",
    "df_data = pd.get_dummies(df_data, columns = ['Churn'], drop_first = True, dtype = int)"
   ]
  },
  {
   "cell_type": "markdown",
   "id": "916dc284-1098-49bd-9d8c-e92a2e1dc308",
   "metadata": {},
   "source": [
    "---\n",
    "\n",
    "My data manipulations are now complete, and I can once again view the info for the reduced data set, along with a preview of the contents."
   ]
  },
  {
   "cell_type": "code",
   "execution_count": 15,
   "id": "14d19512-b332-43e8-bd16-43ca49a5fb1d",
   "metadata": {},
   "outputs": [
    {
     "name": "stdout",
     "output_type": "stream",
     "text": [
      "<class 'pandas.core.frame.DataFrame'>\n",
      "RangeIndex: 10000 entries, 0 to 9999\n",
      "Data columns (total 18 columns):\n",
      " #   Column                 Non-Null Count  Dtype  \n",
      "---  ------                 --------------  -----  \n",
      " 0   Children               10000 non-null  int64  \n",
      " 1   Age                    10000 non-null  int64  \n",
      " 2   Income                 10000 non-null  float64\n",
      " 3   Tenure                 10000 non-null  float64\n",
      " 4   MonthlyCharge          10000 non-null  float64\n",
      " 5   Bandwidth_GB_Year      10000 non-null  float64\n",
      " 6   Area_Rural             10000 non-null  int64  \n",
      " 7   Area_Suburban          10000 non-null  int64  \n",
      " 8   Area_Urban             10000 non-null  int64  \n",
      " 9   Marital_Divorced       10000 non-null  int64  \n",
      " 10  Marital_Married        10000 non-null  int64  \n",
      " 11  Marital_Never Married  10000 non-null  int64  \n",
      " 12  Marital_Separated      10000 non-null  int64  \n",
      " 13  Marital_Widowed        10000 non-null  int64  \n",
      " 14  Gender_Female          10000 non-null  int64  \n",
      " 15  Gender_Male            10000 non-null  int64  \n",
      " 16  Gender_Nonbinary       10000 non-null  int64  \n",
      " 17  Churn_Yes              10000 non-null  int64  \n",
      "dtypes: float64(4), int64(14)\n",
      "memory usage: 1.4 MB\n"
     ]
    }
   ],
   "source": [
    "# Display dataset info\n",
    "df_data.info()"
   ]
  },
  {
   "cell_type": "markdown",
   "id": "0b50a15a-35e2-4860-a964-c13ce40abbdf",
   "metadata": {},
   "source": [
    "---\n",
    "\n",
    "## Copy of Prepared Data Set\n",
    "\n",
    "Below is the code used to export the prepared data set to CSV format."
   ]
  },
  {
   "cell_type": "code",
   "execution_count": 16,
   "id": "d0ab6693-caea-4177-907d-5d8a9c72912c",
   "metadata": {},
   "outputs": [],
   "source": [
    "# Export prepared dataframe to CSV\n",
    "df_data.to_csv(r'/home/wstults/anaconda3/Jupyter/d209/Data-Mining---Random-Forest/Data-Mining---Random-Forest/churn_clean_prepared.csv')"
   ]
  },
  {
   "cell_type": "markdown",
   "id": "38a60cda-2f22-49ce-af3f-5cf7125b5c66",
   "metadata": {},
   "source": [
    "---\n",
    "\n",
    "# **Part IV: Analysis**\n",
    "\n",
    "## Splitting the Data\n",
    "\n",
    "Below I will use the train_test_split function to split my data set into training and testing sets.  I will use a 0.25 split, which is a good rule of thumb value.  This means that 75% of my data will be used to train the random forest algorithm, and 25% of the data will be used to test the classification.  Once split, the train and test sets for both the features and the target will be exported in CSV format."
   ]
  },
  {
   "cell_type": "code",
   "execution_count": 17,
   "id": "2ef841b6-7e77-463e-9034-dd3e7ccadd50",
   "metadata": {},
   "outputs": [],
   "source": [
    "# Generate train/test split\n",
    "y = df_data['Churn_Yes'].values\n",
    "X = df_data.drop('Churn_Yes', axis=1).values\n",
    "X_train, X_test, y_train, y_test = train_test_split(X, y, test_size = 0.25, random_state=42, stratify=y)"
   ]
  },
  {
   "cell_type": "code",
   "execution_count": 18,
   "id": "ec11e09a-0675-49ed-911e-08e13b0beaa2",
   "metadata": {},
   "outputs": [],
   "source": [
    "# Create dataframes from train/test splits and export as CSV\n",
    "X_train_data = pd.DataFrame(data = X_train)\n",
    "X_train_data.to_csv(r'/home/wstults/anaconda3/Jupyter/d209/Data-Mining---Random-Forest/Data-Mining---Random-Forest/X_train.csv')\n",
    "X_test_data = pd.DataFrame(data = X_test)\n",
    "X_test_data.to_csv(r'/home/wstults/anaconda3/Jupyter/d209/Data-Mining---Random-Forest/Data-Mining---Random-Forest/X_test.csv')\n",
    "y_train_data = pd.DataFrame(data = y_train)\n",
    "y_train_data.to_csv(r'/home/wstults/anaconda3/Jupyter/d209/Data-Mining---Random-Forest/Data-Mining---Random-Forest/y_train.csv')\n",
    "y_test_data = pd.DataFrame(data = y_test)\n",
    "y_test_data.to_csv(r'/home/wstults/anaconda3/Jupyter/d209/Data-Mining---Random-Forest/Data-Mining---Random-Forest/y_test.csv')"
   ]
  },
  {
   "cell_type": "markdown",
   "id": "80b88c67-26e3-4f07-9b56-881a85cdd1a5",
   "metadata": {},
   "source": [
    "---\n",
    "\n",
    "## Analysis Technique\n",
    "\n",
    "I will begin by running an initial set of predictions using the random forest classifier and recording the accuracy score and MSE.  I will start with these base parameters:\n",
    "\n",
    "- n_estimators = 25\n",
    "- max_depth = 4\n",
    "- max_features = 3\n",
    "- bootstrap = True\n",
    "- random_state = 42"
   ]
  },
  {
   "cell_type": "code",
   "execution_count": 19,
   "id": "f08f4d05-079a-4bf6-8577-590a97bc8408",
   "metadata": {},
   "outputs": [
    {
     "name": "stdout",
     "output_type": "stream",
     "text": [
      "Test set accuracy score of Random Forest: 0.8328\n",
      "Test set MSE of Random Forest: 0.1672\n"
     ]
    }
   ],
   "source": [
    "# Instantiate rfc\n",
    "rfc = RandomForestClassifier(n_estimators = 25, max_depth = 4, max_features = 3, bootstrap = True, random_state = 42)\n",
    "# Fit rfc to the training set    \n",
    "rfc.fit(X_train, y_train)\n",
    "# Predict the test set labels\n",
    "y_pred = rfc.predict(X_test)\n",
    "# Display accuracy score\n",
    "print('Test set accuracy score of Random Forest: {:.4f}'.format(accuracy_score(y_test, y_pred)))\n",
    "# Display auc score\n",
    "print('Test set MSE of Random Forest: {:.4f}'.format(mean_squared_error(y_test, y_pred)))"
   ]
  },
  {
   "cell_type": "markdown",
   "id": "5106cac3-e0ca-44a7-9af4-1246ad0de69a",
   "metadata": {},
   "source": [
    "---\n",
    "\n",
    "The scores for the model look respectable as is.  With GridSearchCV I can attempt to better tune the model using some different parameters in hopes of achieving some better results."
   ]
  },
  {
   "cell_type": "code",
   "execution_count": 20,
   "id": "58799071-356a-4cf7-a3aa-ebbf2624c71e",
   "metadata": {},
   "outputs": [
    {
     "name": "stdout",
     "output_type": "stream",
     "text": [
      "{'bootstrap': True, 'max_depth': 7, 'max_features': 7, 'n_estimators': 35, 'random_state': 42}\n"
     ]
    }
   ],
   "source": [
    "# Define parameters\n",
    "parameters = { \n",
    "    'n_estimators': [15,25,35],\n",
    "    'max_depth': [3,5,7],\n",
    "    'max_features': [3,5,7],\n",
    "    'bootstrap': [True,False],\n",
    "    'random_state' : [42]\n",
    "}\n",
    "# Grid Search function\n",
    "CV_rfc = GridSearchCV(estimator=RandomForestClassifier(), param_grid=parameters)\n",
    "CV_rfc.fit(X_train, y_train)\n",
    "# print best parameters\n",
    "print(CV_rfc.best_params_)"
   ]
  },
  {
   "cell_type": "code",
   "execution_count": 21,
   "id": "249a869e-3fa9-41c5-a5b8-951546a3b276",
   "metadata": {},
   "outputs": [
    {
     "name": "stdout",
     "output_type": "stream",
     "text": [
      "Test set accuracy score of Random Forest: 0.8440\n",
      "Test set MSE of Random Forest: 0.1560\n"
     ]
    }
   ],
   "source": [
    "# Instantiate rfc\n",
    "rfc = RandomForestClassifier(n_estimators = 25, max_depth = 7, max_features = 7, bootstrap = True, random_state = 42)\n",
    "# Fit rfc to the training set    \n",
    "rfc.fit(X_train, y_train)\n",
    "# Predict the test set labels\n",
    "y_pred = rfc.predict(X_test)\n",
    "# Display accuracy score\n",
    "print('Test set accuracy score of Random Forest: {:.4f}'.format(accuracy_score(y_test, y_pred)))\n",
    "# Display auc score\n",
    "print('Test set MSE of Random Forest: {:.4f}'.format(mean_squared_error(y_test, y_pred)))"
   ]
  },
  {
   "cell_type": "markdown",
   "id": "3b45339d-5139-4e8f-a9a3-138170dd11d4",
   "metadata": {},
   "source": [
    "---\n",
    "\n",
    "The scores do show improvement after parameter tuning.  I can now compare the model's performance with that of another popular classification model, k-nearest neighbors."
   ]
  },
  {
   "cell_type": "code",
   "execution_count": 22,
   "id": "2dcb9c55-51b7-4eb0-ba70-02f1c12bfa0b",
   "metadata": {},
   "outputs": [
    {
     "name": "stdout",
     "output_type": "stream",
     "text": [
      "Test set accuracy score of knn: 0.7360\n",
      "Test set MSE of knn: 0.2640\n"
     ]
    }
   ],
   "source": [
    "# Define knn\n",
    "knn = KNeighborsClassifier(n_neighbors=25)\n",
    "# fit knn to model\n",
    "knn.fit(X_train, y_train)\n",
    "# Predict the test set labels\n",
    "y_pred = knn.predict(X_test)\n",
    "# predict probabilities\n",
    "pred_prob = knn.predict_proba(X_test)\n",
    "# Display accuracy score\n",
    "print('Test set accuracy score of knn: {:.4f}'.format(accuracy_score(y_test, y_pred)))\n",
    "# Display auc score\n",
    "print('Test set MSE of knn: {:.4f}'.format(mean_squared_error(y_test, y_pred)))"
   ]
  },
  {
   "cell_type": "markdown",
   "id": "f668db1e-09ca-4664-819f-2e2c5688e9c6",
   "metadata": {},
   "source": [
    "---\n",
    "\n",
    "The random forest model appears to be an improvement over k-nearest neighbors at this early stage.  To further analyze what the predictions can tell me about the data, I can plot which features from the data are having the greatest impact on predictions."
   ]
  },
  {
   "cell_type": "code",
   "execution_count": 23,
   "id": "a06b9072-48a3-4f5e-8de5-e515dd0cf0a5",
   "metadata": {},
   "outputs": [
    {
     "data": {
      "image/png": "[encoded data removed]",
      "text/plain": [
       "<Figure size 432x288 with 1 Axes>"
      ]
     },
     "metadata": {
      "needs_background": "light"
     },
     "output_type": "display_data"
    }
   ],
   "source": [
    "X_data = pd.DataFrame(df_data.drop('Churn_Yes', axis=1))\n",
    "# Create a pd.Series of features importances\n",
    "importances = pd.Series(data=rfc.feature_importances_,\n",
    "                        index= X_data.columns)\n",
    "\n",
    "# Sort importances\n",
    "importances_sorted = importances.sort_values()\n",
    "\n",
    "# Draw a horizontal barplot of importances_sorted\n",
    "importances_sorted.plot(kind='barh', color='lightgreen')\n",
    "plt.title('Features Importances')\n",
    "plt.show()"
   ]
  },
  {
   "cell_type": "markdown",
   "id": "c2011a37-16db-4552-b8f5-363f7c355d52",
   "metadata": {},
   "source": [
    "---\n",
    "\n",
    "# **Part V: Data Summary and Implications**\n",
    "\n",
    "## Summary of Findings\n",
    "\n",
    "The random forest classification algorithm resulted in an accuracy score of 0.8440 and a mean squared error of 0.1560.  These two measurement compliment each other and indicate a high chance of successfully classifying an unknown data point as churned or not churned.  Both scores exceed those I saw when comparing with another classification model, k-nearest neighbors, which is congruent with the accepted opinion that random forests are one of the most accurate machine learning algorithms.\n",
    "\n",
    "Data also reflected that the strongest predictors of churn where MonthlyCharge, Tenure, and Bandwidth_GB_Year.\n",
    "\n",
    "One limitation of random forests is that it is sometimes necessary to use a high number of estimators in order to achieve desired accuracy, which causes the length of time it takes to train these models to increase dramatically.  Not much can be done to mitigate against this as it is a product of the algorithm's nature of using many smaller algorithms together in order to arrive at its conclusions.\n",
    "\n",
    "\n",
    "---\n",
    "\n",
    "## Recommended Course of Action\n",
    "\n",
    "The results of my analysis indicate an algorithm similar to mine could reliably predict which customers are in danger of churning.  It may be beneficial to offer those customers classified in this way special promotional rates or product enhancements to entice them into remaining customers."
   ]
  },
  {
   "cell_type": "markdown",
   "id": "400dfcb1-d7f6-4197-ab70-b39c01c6c6b5",
   "metadata": {},
   "source": [
    "---\n",
    "\n",
    "# **Part VI: Demonstration**\n",
    "\n",
    "**Panopto Video Recording**\n",
    "\n",
    "A link for the Panopto video has been provided separately.  The demonstration includes a demonstration of the functionality of the code used for the analysis and a summary of the programming environment."
   ]
  },
  {
   "cell_type": "markdown",
   "id": "f451a512-1938-4e97-a362-db79a69d05a5",
   "metadata": {},
   "source": [
    "---\n",
    "\n",
    "# **Web Sources**\n",
    "\n",
    "https://towardsdatascience.com/random-forest-regression-5f605132d19d\n",
    "\n",
    "https://towardsdatascience.com/random-forest-classification-678e551462f5\n",
    "\n"
   ]
  },
  {
   "cell_type": "markdown",
   "id": "24e762db-fcb2-423a-9cd3-40d9135f73f0",
   "metadata": {},
   "source": [
    "---\n",
    "\n",
    "# **References**\n",
    "\n",
    "\n",
    "Insights for Professionals. (2019, February 26). *5 Niche Programming Languages (And Why They're Underrated).* https://www.insightsforprofessionals.com/it/software/niche-programming-languages\n",
    "\n",
    "\n",
    "Vishalmendekarhere.  (2021, January 17).  *It’s all about Assumptions, Pros & Cons.*  Medium.  https://medium.com/swlh/its-all-about-assumptions-pros-cons-497783cfed2d\n",
    "\n"
   ]
  }
 ],
 "metadata": {
  "kernelspec": {
   "display_name": "Python 3 (ipykernel)",
   "language": "python",
   "name": "python3"
  },
  "language_info": {
   "codemirror_mode": {
    "name": "ipython",
    "version": 3
   },
   "file_extension": ".py",
   "mimetype": "text/x-python",
   "name": "python",
   "nbconvert_exporter": "python",
   "pygments_lexer": "ipython3",
   "version": "3.9.12"
  }
 },
 "nbformat": 4,
 "nbformat_minor": 5
}
