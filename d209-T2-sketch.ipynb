{
 "cells": [
  {
   "cell_type": "code",
   "execution_count": null,
   "id": "34cddd1e-0d60-4cc5-b8b1-381497b286c4",
   "metadata": {},
   "outputs": [],
   "source": [
    "# Imports and housekeeping\n",
    "import pandas as pd\n",
    "import numpy as np\n",
    "import matplotlib.pyplot as plt\n",
    "from sklearn.neighbors import KNeighborsClassifier\n",
    "from sklearn.ensemble import RandomForestClassifier\n",
    "from sklearn.model_selection import train_test_split, GridSearchCV\n",
    "from sklearn.metrics import accuracy_score, mean_squared_error"
   ]
  },
  {
   "cell_type": "code",
   "execution_count": null,
   "id": "f7c78624-d093-4a29-8e11-ec44983a6a71",
   "metadata": {
    "tags": []
   },
   "outputs": [],
   "source": [
    "# Import the main dataset\n",
    "df = pd.read_csv('churn_clean.csv',dtype={'locationid':np.int64})"
   ]
  },
  {
   "cell_type": "code",
   "execution_count": null,
   "id": "938fc9fc-b06e-4f66-b8f8-3b2802fbb8c8",
   "metadata": {},
   "outputs": [],
   "source": [
    "# Display dataset info\n",
    "df.info()"
   ]
  },
  {
   "cell_type": "code",
   "execution_count": null,
   "id": "c272b392-a3c8-4669-a619-0fd709b7e90a",
   "metadata": {},
   "outputs": [],
   "source": [
    "# Drops columns with no relevance to the research question\n",
    "df_data = df.drop(['CaseOrder', 'Customer_id', 'Interaction', 'UID', 'City', 'State', 'County', 'Zip', 'Lat', 'Lng',\n",
    "                   'Population', 'TimeZone', 'Outage_sec_perweek', 'Email', 'Contacts', 'Yearly_equip_failure', 'Techie',\n",
    "                   'Contract', 'Port_modem', 'Tablet', 'InternetService', 'Phone', 'Multiple', 'OnlineSecurity',\n",
    "                   'OnlineBackup', 'DeviceProtection', 'TechSupport', 'StreamingTV', 'StreamingMovies', 'PaperlessBilling',\n",
    "                   'PaymentMethod', 'Item1', 'Item2', 'Item3', 'Item4', 'Item5', 'Item6', 'Item7', 'Item8'], axis=1)"
   ]
  },
  {
   "cell_type": "code",
   "execution_count": null,
   "id": "de081ef7-9878-4fcc-bdab-081a87e18db3",
   "metadata": {
    "tags": []
   },
   "outputs": [],
   "source": [
    "# Display dataset top 5 rows\n",
    "df_data.head()"
   ]
  },
  {
   "cell_type": "code",
   "execution_count": null,
   "id": "21fdf502-fa9f-4b54-90bf-b6e72aca3ccc",
   "metadata": {},
   "outputs": [],
   "source": [
    "# Display data set number of rows and colums\n",
    "df_data.shape"
   ]
  },
  {
   "cell_type": "code",
   "execution_count": null,
   "id": "2add4cb4-3356-4100-9d5b-287d5ddd4e97",
   "metadata": {},
   "outputs": [],
   "source": [
    "# Check data for null or missing values\n",
    "df_data.isna().any()"
   ]
  },
  {
   "cell_type": "code",
   "execution_count": null,
   "id": "9c0bda96-ab25-4ee4-8395-1d308d484c69",
   "metadata": {},
   "outputs": [],
   "source": [
    "# Check data for duplicated rows\n",
    "df_data.duplicated().sum()"
   ]
  },
  {
   "cell_type": "code",
   "execution_count": null,
   "id": "051cec81-4827-40ba-a88a-12f84772b805",
   "metadata": {},
   "outputs": [],
   "source": [
    "# Display summary statistics for dataset - continuous variables\n",
    "df_data.describe()"
   ]
  },
  {
   "cell_type": "code",
   "execution_count": null,
   "id": "04cdbd27-2e32-49fe-80d3-1091d63d502a",
   "metadata": {},
   "outputs": [],
   "source": [
    "# Display summary statistics for dataset - categorical variables\n",
    "df_data.describe(include = object)"
   ]
  },
  {
   "cell_type": "code",
   "execution_count": null,
   "id": "65125e11-edfb-4815-bf55-81c052524c39",
   "metadata": {},
   "outputs": [],
   "source": [
    "# Too many unique values, drop Job column\n",
    "df_data = df_data.drop(['Job'], axis=1)"
   ]
  },
  {
   "cell_type": "code",
   "execution_count": null,
   "id": "2965862a-173f-4ae2-8c24-4a0b4a8d61ab",
   "metadata": {},
   "outputs": [],
   "source": [
    "# Display summary statistics for dataset - categorical variables\n",
    "df_data.describe(include = object)"
   ]
  },
  {
   "cell_type": "code",
   "execution_count": null,
   "id": "f9db392a-18fa-4367-a0d4-d99f02204093",
   "metadata": {
    "tags": []
   },
   "outputs": [],
   "source": [
    "# Convert categorical variables (excluding Churn) to numeric via pd.get_dummies\n",
    "df_data = pd.get_dummies(df_data, columns = ['Area', 'Marital', 'Gender'], dtype = int)"
   ]
  },
  {
   "cell_type": "code",
   "execution_count": null,
   "id": "a55b87df-a99d-4b6b-a92b-326a310619fe",
   "metadata": {},
   "outputs": [],
   "source": [
    "# Convert categorical variables (excluding Churn) to numeric via pd.get_dummies\n",
    "df_data = pd.get_dummies(df_data, columns = ['Churn'], drop_first = True, dtype = int)"
   ]
  },
  {
   "cell_type": "code",
   "execution_count": null,
   "id": "54235e65-5882-4c61-9af4-36f89292344a",
   "metadata": {},
   "outputs": [],
   "source": [
    "# Display dataset info\n",
    "df_data.info()"
   ]
  },
  {
   "cell_type": "code",
   "execution_count": null,
   "id": "a835e2a8-fa80-4ab4-9e50-f6d63dd6cac5",
   "metadata": {},
   "outputs": [],
   "source": [
    "# Export prepared dataframe to CSV\n",
    "df_data.to_csv(r'/home/wstults/anaconda3/Jupyter/d209/Data-Mining---Random-Forest/Data-Mining---Random-Forest/churn_clean_prepared.csv')"
   ]
  },
  {
   "cell_type": "code",
   "execution_count": null,
   "id": "172e0ce8-04f8-45db-b0c5-4aea37e22af4",
   "metadata": {},
   "outputs": [],
   "source": [
    "# Generate train/test split\n",
    "y = df_data['Churn_Yes'].values\n",
    "X = df_data.drop('Churn_Yes', axis=1).values\n",
    "X_train, X_test, y_train, y_test = train_test_split(X, y, test_size = 0.25, random_state=42, stratify=y)"
   ]
  },
  {
   "cell_type": "code",
   "execution_count": null,
   "id": "0b8e3488-0eea-490a-9f06-7515c3b37a31",
   "metadata": {},
   "outputs": [],
   "source": [
    "# Create dataframes from train/test splits and export as CSV\n",
    "X_train_data = pd.DataFrame(data = X_train)\n",
    "X_train_data.to_csv(r'/home/wstults/anaconda3/Jupyter/d209/Data-Mining---Random-Forest/Data-Mining---Random-Forest/X_train.csv')\n",
    "X_test_data = pd.DataFrame(data = X_test)\n",
    "X_test_data.to_csv(r'/home/wstults/anaconda3/Jupyter/d209/Data-Mining---Random-Forest/Data-Mining---Random-Forest/X_test.csv')\n",
    "y_train_data = pd.DataFrame(data = y_train)\n",
    "y_train_data.to_csv(r'/home/wstults/anaconda3/Jupyter/d209/Data-Mining---Random-Forest/Data-Mining---Random-Forest/y_train.csv')\n",
    "y_test_data = pd.DataFrame(data = y_test)\n",
    "y_test_data.to_csv(r'/home/wstults/anaconda3/Jupyter/d209/Data-Mining---Random-Forest/Data-Mining---Random-Forest/y_test.csv')"
   ]
  },
  {
   "cell_type": "code",
   "execution_count": null,
   "id": "4b8e9ca1-4a39-47e0-8f58-3d5bf308fde4",
   "metadata": {},
   "outputs": [],
   "source": [
    "# Instantiate rfc\n",
    "rfc = RandomForestClassifier(n_estimators = 25, max_depth = 4, max_features = 3, bootstrap = True, random_state = 42)\n",
    "# Fit rfc to the training set    \n",
    "rfc.fit(X_train, y_train)\n",
    "# Predict the test set labels\n",
    "y_pred = rfc.predict(X_test)\n",
    "# Display accuracy score\n",
    "print('Test set accuracy score of Random Forest: {:.4f}'.format(accuracy_score(y_test, y_pred)))\n",
    "# Display auc score\n",
    "print('Test set MSE of Random Forest: {:.4f}'.format(mean_squared_error(y_test, y_pred)))"
   ]
  },
  {
   "cell_type": "code",
   "execution_count": null,
   "id": "fdfc9658-982d-4cf7-b78c-3db62527d9fc",
   "metadata": {},
   "outputs": [],
   "source": [
    "# Define parameters\n",
    "parameters = { \n",
    "    'n_estimators': [15,25,35],\n",
    "    'max_depth': [3,5,7],\n",
    "    'max_features': [3,5,7],\n",
    "    'bootstrap': [True,False],\n",
    "    'random_state' : [42]\n",
    "}\n",
    "# Grid Search function\n",
    "CV_rfc = GridSearchCV(estimator=RandomForestClassifier(), param_grid=parameters)\n",
    "CV_rfc.fit(X_train, y_train)\n",
    "# print best parameters\n",
    "print(CV_rfc.best_params_)"
   ]
  },
  {
   "cell_type": "code",
   "execution_count": null,
   "id": "ab662b25-db8d-4c6c-a43a-ea27bb6e48d3",
   "metadata": {},
   "outputs": [],
   "source": [
    "# Instantiate rfc\n",
    "rfc = RandomForestClassifier(n_estimators = 25, max_depth = 7, max_features = 7, bootstrap = True, random_state = 42)\n",
    "# Fit rfc to the training set    \n",
    "rfc.fit(X_train, y_train)\n",
    "# Predict the test set labels\n",
    "y_pred = rfc.predict(X_test)\n",
    "# Display accuracy score\n",
    "print('Test set accuracy score of Random Forest: {:.4f}'.format(accuracy_score(y_test, y_pred)))\n",
    "# Display auc score\n",
    "print('Test set MSE of Random Forest: {:.4f}'.format(mean_squared_error(y_test, y_pred)))"
   ]
  },
  {
   "cell_type": "code",
   "execution_count": null,
   "id": "88024aa3-9f94-4d57-8e54-ee9592b117b6",
   "metadata": {},
   "outputs": [],
   "source": [
    "# Define knn\n",
    "knn = KNeighborsClassifier(n_neighbors=25)\n",
    "# fit knn to model\n",
    "knn.fit(X_train, y_train)\n",
    "# Predict the test set labels\n",
    "y_pred = knn.predict(X_test)\n",
    "# predict probabilities\n",
    "pred_prob = knn.predict_proba(X_test)\n",
    "# Display accuracy score\n",
    "print('Test set accuracy score of knn: {:.4f}'.format(accuracy_score(y_test, y_pred)))\n",
    "# Display auc score\n",
    "print('Test set MSE of knn: {:.4f}'.format(mean_squared_error(y_test, y_pred)))"
   ]
  },
  {
   "cell_type": "code",
   "execution_count": null,
   "id": "3347313c-57d5-4574-b643-56076a716fb0",
   "metadata": {},
   "outputs": [],
   "source": [
    "X_data = pd.DataFrame(df_data.drop('Churn_Yes', axis=1))\n",
    "# Create a pd.Series of features importances\n",
    "importances = pd.Series(data=rfc.feature_importances_,\n",
    "                        index= X_data.columns)\n",
    "\n",
    "# Sort importances\n",
    "importances_sorted = importances.sort_values()\n",
    "\n",
    "# Draw a horizontal barplot of importances_sorted\n",
    "importances_sorted.plot(kind='barh', color='lightgreen')\n",
    "plt.title('Features Importances')\n",
    "plt.show()"
   ]
  }
 ],
 "metadata": {
  "kernelspec": {
   "display_name": "Python 3 (ipykernel)",
   "language": "python",
   "name": "python3"
  },
  "language_info": {
   "codemirror_mode": {
    "name": "ipython",
    "version": 3
   },
   "file_extension": ".py",
   "mimetype": "text/x-python",
   "name": "python",
   "nbconvert_exporter": "python",
   "pygments_lexer": "ipython3",
   "version": "3.9.12"
  }
 },
 "nbformat": 4,
 "nbformat_minor": 5
}
